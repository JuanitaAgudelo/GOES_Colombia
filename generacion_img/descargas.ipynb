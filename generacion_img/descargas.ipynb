{
 "cells": [
  {
   "cell_type": "code",
   "execution_count": null,
   "metadata": {},
   "outputs": [],
   "source": [
    "import GOES"
   ]
  },
  {
   "cell_type": "code",
   "execution_count": null,
   "metadata": {},
   "outputs": [],
   "source": [
    "def descarga_Rad(fecha_inicial, fecha_final, canales, path):\n",
    "    \"\"\"\n",
    "    Parámetros: fecha_inicial (str) - formato: %Y%m%d%H%M%S ejemplo 20200320-060000\n",
    "                fecha_final (str) - formato: %Y%m%d%H%M%S ejemplo 20200320-070000\n",
    "                canales (list, str) ejemplo ['13','14','15']\n",
    "                path (str) - path de salida\n",
    "    \"\"\"\n",
    "    lista_descarga = GOES.download('goes16', 'ABI-L1b-RadF',\n",
    "              DateTimeIni = fecha_inicial, DateTimeFin = fecha_final,\n",
    "                channel = canales, rename_fmt = '%Y%m%d%H%M%S', path_out=path)\n",
    "    \n",
    "    \n",
    "def descarga_TPW_LST(fecha_inicial, fecha_final, variable, path):\n",
    "    \"\"\"\n",
    "    Parámetros: fecha_inicial (str) - formato: %Y%m%d%H%M%S ejemplo 20200320-060000\n",
    "                fecha_final (str) - formato: %Y%m%d%H%M%S ejemplo 20200320-070000\n",
    "                variable (str): si es LST = 'ABI-L2-LSTF'\n",
    "                                si es TPW = 'ABI-L2-TPWF'\n",
    "                path (str) - path de salida\n",
    "    \"\"\"\n",
    "    lista_descarga = GOES.download('goes16',variable,DateTimeIni=fecha_inicial,DateTimeFin=fecha_final, \n",
    "                                   path_out=path)\n",
    "    \n"
   ]
  },
  {
   "cell_type": "code",
   "execution_count": null,
   "metadata": {},
   "outputs": [],
   "source": []
  }
 ],
 "metadata": {
  "language_info": {
   "name": "python"
  },
  "orig_nbformat": 4
 },
 "nbformat": 4,
 "nbformat_minor": 2
}
